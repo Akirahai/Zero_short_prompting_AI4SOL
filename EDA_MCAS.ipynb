{
 "cells": [
  {
   "cell_type": "code",
   "execution_count": 1,
   "metadata": {},
   "outputs": [],
   "source": [
    "import pandas as pd"
   ]
  },
  {
   "cell_type": "code",
   "execution_count": 2,
   "metadata": {},
   "outputs": [],
   "source": [
    "kc_df_data_mcas = pd.read_csv('api/common_core_data/Data/2015-2023-MCAS-3-6.csv')\n",
    "kc_df_data_gms8k = pd.read_csv('api/common_core_data/Test_Result/KC_question_level_gpt_35_turbo.csv')\n",
    "notation_df = pd.read_csv('api/common_core_data/Knowledge_Base/Coherence_map_normal.csv')"
   ]
  },
  {
   "cell_type": "code",
   "execution_count": 3,
   "metadata": {},
   "outputs": [
    {
     "data": {
      "text/plain": [
       "array(['Operations and Algebraic Thinking',\n",
       "       'Number and Operations in Base Ten',\n",
       "       'Number and Operations-Fractions', 'Measurement and Data',\n",
       "       'Geometry'], dtype=object)"
      ]
     },
     "execution_count": 3,
     "metadata": {},
     "output_type": "execute_result"
    }
   ],
   "source": [
    "notation_df[notation_df['Grade'] == 3]['Subject'].unique()"
   ]
  },
  {
   "cell_type": "code",
   "execution_count": 4,
   "metadata": {},
   "outputs": [],
   "source": [
    "kc_df_data_gms8k['Grade applied'] = kc_df_data_gms8k['Grade applied'].fillna(0).apply(lambda x: int(x))"
   ]
  },
  {
   "cell_type": "code",
   "execution_count": 5,
   "metadata": {},
   "outputs": [
    {
     "data": {
      "text/html": [
       "<div>\n",
       "<style scoped>\n",
       "    .dataframe tbody tr th:only-of-type {\n",
       "        vertical-align: middle;\n",
       "    }\n",
       "\n",
       "    .dataframe tbody tr th {\n",
       "        vertical-align: top;\n",
       "    }\n",
       "\n",
       "    .dataframe thead th {\n",
       "        text-align: right;\n",
       "    }\n",
       "</style>\n",
       "<table border=\"1\" class=\"dataframe\">\n",
       "  <thead>\n",
       "    <tr style=\"text-align: right;\">\n",
       "      <th></th>\n",
       "      <th>Question</th>\n",
       "      <th>Grade applied</th>\n",
       "      <th>KCs applied</th>\n",
       "      <th>Source</th>\n",
       "    </tr>\n",
       "  </thead>\n",
       "  <tbody>\n",
       "    <tr>\n",
       "      <th>0</th>\n",
       "      <td>Natalia sold clips to 48 of her friends in Apr...</td>\n",
       "      <td>3</td>\n",
       "      <td>['3.OA.A.3', '2.OA.A.1']</td>\n",
       "      <td>GSM8K-TRAIN</td>\n",
       "    </tr>\n",
       "    <tr>\n",
       "      <th>1</th>\n",
       "      <td>Weng earns $12 an hour for babysitting. Yester...</td>\n",
       "      <td>4</td>\n",
       "      <td>['4.NF.C.6', '4.NF.B.4.c', '4.MD.A.2']</td>\n",
       "      <td>GSM8K-TRAIN</td>\n",
       "    </tr>\n",
       "    <tr>\n",
       "      <th>2</th>\n",
       "      <td>Betty is saving money for a new wallet which c...</td>\n",
       "      <td>3</td>\n",
       "      <td>['3.OA.A.3', '2.NBT.B.5']</td>\n",
       "      <td>GSM8K-TRAIN</td>\n",
       "    </tr>\n",
       "    <tr>\n",
       "      <th>3</th>\n",
       "      <td>Julie is reading a 120-page book. Yesterday, s...</td>\n",
       "      <td>3</td>\n",
       "      <td>['3.OA.A.3', '2.OA.A.1', '3.NBT.A.2']</td>\n",
       "      <td>GSM8K-TRAIN</td>\n",
       "    </tr>\n",
       "    <tr>\n",
       "      <th>4</th>\n",
       "      <td>James writes a 3-page letter to 2 different fr...</td>\n",
       "      <td>4</td>\n",
       "      <td>['3.OA.A.3', '4.NBT.B.5']</td>\n",
       "      <td>GSM8K-TRAIN</td>\n",
       "    </tr>\n",
       "  </tbody>\n",
       "</table>\n",
       "</div>"
      ],
      "text/plain": [
       "                                            Question  Grade applied  \\\n",
       "0  Natalia sold clips to 48 of her friends in Apr...              3   \n",
       "1  Weng earns $12 an hour for babysitting. Yester...              4   \n",
       "2  Betty is saving money for a new wallet which c...              3   \n",
       "3  Julie is reading a 120-page book. Yesterday, s...              3   \n",
       "4  James writes a 3-page letter to 2 different fr...              4   \n",
       "\n",
       "                              KCs applied       Source  \n",
       "0                ['3.OA.A.3', '2.OA.A.1']  GSM8K-TRAIN  \n",
       "1  ['4.NF.C.6', '4.NF.B.4.c', '4.MD.A.2']  GSM8K-TRAIN  \n",
       "2               ['3.OA.A.3', '2.NBT.B.5']  GSM8K-TRAIN  \n",
       "3   ['3.OA.A.3', '2.OA.A.1', '3.NBT.A.2']  GSM8K-TRAIN  \n",
       "4               ['3.OA.A.3', '4.NBT.B.5']  GSM8K-TRAIN  "
      ]
     },
     "execution_count": 5,
     "metadata": {},
     "output_type": "execute_result"
    }
   ],
   "source": [
    "kc_df_data_gms8k[kc_df_data_gms8k['Grade applied'].isin([3, 4, 5, 6])][['Question','Grade applied', 'KCs applied','Source']].head(5)"
   ]
  },
  {
   "cell_type": "code",
   "execution_count": 6,
   "metadata": {},
   "outputs": [
    {
     "data": {
      "text/html": [
       "<div>\n",
       "<style scoped>\n",
       "    .dataframe tbody tr th:only-of-type {\n",
       "        vertical-align: middle;\n",
       "    }\n",
       "\n",
       "    .dataframe tbody tr th {\n",
       "        vertical-align: top;\n",
       "    }\n",
       "\n",
       "    .dataframe thead th {\n",
       "        text-align: right;\n",
       "    }\n",
       "</style>\n",
       "<table border=\"1\" class=\"dataframe\">\n",
       "  <thead>\n",
       "    <tr style=\"text-align: right;\">\n",
       "      <th></th>\n",
       "      <th>Question</th>\n",
       "      <th>Grade applied</th>\n",
       "      <th>KCs applied</th>\n",
       "      <th>Source</th>\n",
       "    </tr>\n",
       "  </thead>\n",
       "  <tbody>\n",
       "    <tr>\n",
       "      <th>0</th>\n",
       "      <td>The graph below shows the numbers of laps four...</td>\n",
       "      <td>3</td>\n",
       "      <td>3.MD.3</td>\n",
       "      <td>MCAS</td>\n",
       "    </tr>\n",
       "    <tr>\n",
       "      <th>1</th>\n",
       "      <td>Ms. Garcia wrote the sentence shown in the box...</td>\n",
       "      <td>3</td>\n",
       "      <td>3.OA.1</td>\n",
       "      <td>MCAS</td>\n",
       "    </tr>\n",
       "    <tr>\n",
       "      <th>2</th>\n",
       "      <td>Ms. Shaw has a quilt that is in the shape of a...</td>\n",
       "      <td>3</td>\n",
       "      <td>3.MD.8</td>\n",
       "      <td>MCAS</td>\n",
       "    </tr>\n",
       "    <tr>\n",
       "      <th>3</th>\n",
       "      <td>Which of these sentences matches the expressio...</td>\n",
       "      <td>3</td>\n",
       "      <td>3.OA.2</td>\n",
       "      <td>MCAS</td>\n",
       "    </tr>\n",
       "    <tr>\n",
       "      <th>4</th>\n",
       "      <td>What is the missing number that makes the numb...</td>\n",
       "      <td>3</td>\n",
       "      <td>3.NBT.2</td>\n",
       "      <td>MCAS</td>\n",
       "    </tr>\n",
       "  </tbody>\n",
       "</table>\n",
       "</div>"
      ],
      "text/plain": [
       "                                            Question  Grade applied  \\\n",
       "0  The graph below shows the numbers of laps four...              3   \n",
       "1  Ms. Garcia wrote the sentence shown in the box...              3   \n",
       "2  Ms. Shaw has a quilt that is in the shape of a...              3   \n",
       "3  Which of these sentences matches the expressio...              3   \n",
       "4  What is the missing number that makes the numb...              3   \n",
       "\n",
       "  KCs applied Source  \n",
       "0      3.MD.3   MCAS  \n",
       "1      3.OA.1   MCAS  \n",
       "2      3.MD.8   MCAS  \n",
       "3      3.OA.2   MCAS  \n",
       "4     3.NBT.2   MCAS  "
      ]
     },
     "execution_count": 6,
     "metadata": {},
     "output_type": "execute_result"
    }
   ],
   "source": [
    "kc_df_data_mcas['Source'] = 'MCAS'\n",
    "# Change the column name KC applied to KCs applied\n",
    "kc_df_data_mcas.rename(columns={'KC applied': 'KCs applied'}, inplace=True)\n",
    "\n",
    "kc_df_data_mcas[['Question', 'Grade applied', 'KCs applied','Source']].head(5)"
   ]
  },
  {
   "cell_type": "code",
   "execution_count": 7,
   "metadata": {},
   "outputs": [
    {
     "data": {
      "text/plain": [
       "585"
      ]
     },
     "execution_count": 7,
     "metadata": {},
     "output_type": "execute_result"
    }
   ],
   "source": [
    "len(kc_df_data_mcas)"
   ]
  },
  {
   "cell_type": "code",
   "execution_count": 8,
   "metadata": {},
   "outputs": [],
   "source": [
    "# Combine the two dataframes\n",
    "kc_df = pd.concat([kc_df_data_mcas[['Question', 'Grade applied', 'KCs applied','Source']], kc_df_data_gms8k[kc_df_data_gms8k['Grade applied'].isin([3, 4, 5, 6])][['Question', 'Grade applied', 'KCs applied','Source']]])\n",
    "kc_df = kc_df.reset_index(drop=True)\n",
    "kc_df['Grade applied'] = kc_df['Grade applied'].astype(str)"
   ]
  },
  {
   "cell_type": "code",
   "execution_count": 9,
   "metadata": {},
   "outputs": [],
   "source": [
    "kc_df.to_csv('api/common_core_data/Data/Grade_data_Train.csv', index=False)"
   ]
  },
  {
   "cell_type": "markdown",
   "metadata": {},
   "source": [
    "# Train - Test - Valid Split"
   ]
  },
  {
   "cell_type": "code",
   "execution_count": 10,
   "metadata": {},
   "outputs": [],
   "source": [
    "data = pd.read_csv('api/common_core_data/Data/Grade_data_Train.csv')"
   ]
  },
  {
   "cell_type": "code",
   "execution_count": 11,
   "metadata": {},
   "outputs": [],
   "source": [
    "from sklearn.model_selection import StratifiedShuffleSplit\n",
    "data['label'] = data['Grade applied'].astype('category').cat.codes\n",
    "\n",
    "seed = 50\n",
    "# Initialize StratifiedShuffleSplit\n",
    "splitter = StratifiedShuffleSplit(n_splits=1, test_size=0.1, random_state=seed)\n",
    "\n",
    "# Split the data into training and remaining (test + validation)\n",
    "for train_idx, test_valid_idx in splitter.split(data, data['label']):\n",
    "    train_set = data.iloc[train_idx]\n",
    "    test_set = data.iloc[test_valid_idx]\n",
    "\n",
    "train_set[['Question', 'label']].to_csv(f'Grade_classification/data/{seed}_train_set.csv', index=False)\n",
    "test_set[['Question', 'label']].to_csv(f'Grade_classification/data/{seed}_test_set.csv', index=False)\n"
   ]
  },
  {
   "cell_type": "code",
   "execution_count": 12,
   "metadata": {},
   "outputs": [
    {
     "data": {
      "text/plain": [
       "((551, 5), (62, 5))"
      ]
     },
     "execution_count": 12,
     "metadata": {},
     "output_type": "execute_result"
    }
   ],
   "source": [
    "train_set.shape, test_set.shape"
   ]
  },
  {
   "cell_type": "code",
   "execution_count": 14,
   "metadata": {},
   "outputs": [
    {
     "name": "stdout",
     "output_type": "stream",
     "text": [
      "| Grade applied   |   Train |   Test |\n",
      "|:----------------|--------:|-------:|\n",
      "| 3               |     140 |     16 |\n",
      "| 6               |     139 |     15 |\n",
      "| 4               |     138 |     16 |\n",
      "| 5               |     134 |     15 |\n",
      "| Total           |     551 |     62 |\n"
     ]
    }
   ],
   "source": [
    "from tabulate import tabulate\n",
    "import pyperclip\n",
    "\n",
    "# Get value counts for each set\n",
    "train_counts = train_set['Grade applied'].value_counts()\n",
    "test_counts = test_set['Grade applied'].value_counts()\n",
    "# valid_counts = valid_set['Grade applied'].value_counts()\n",
    "\n",
    "# Combine the counts into a single DataFrame\n",
    "counts_df = pd.DataFrame({\n",
    "    'Train': train_counts,\n",
    "    'Test': test_counts,\n",
    "}).fillna(0).astype(int)  # Fill NaNs with 0 and convert to integer type\n",
    "\n",
    "# Sort the DataFrame by the 'Train' column in descending order\n",
    "counts_df = counts_df.sort_values(by='Train', ascending=False)\n",
    "\n",
    "counts_df.loc['Total'] = counts_df.sum()\n",
    "# Format the DataFrame using tabulate\n",
    "table = tabulate(counts_df, headers='keys', tablefmt='pipe')\n",
    "# Format the DataFrame using tabulate\n",
    "table = tabulate(counts_df, headers='keys', tablefmt='pipe')\n",
    "\n",
    "# Print the table\n",
    "print(table)\n",
    "\n",
    "# Copy the table to the clipboard\n",
    "pyperclip.copy(table)\n"
   ]
  }
 ],
 "metadata": {
  "kernelspec": {
   "display_name": "temasek_genAI",
   "language": "python",
   "name": "python3"
  },
  "language_info": {
   "codemirror_mode": {
    "name": "ipython",
    "version": 3
   },
   "file_extension": ".py",
   "mimetype": "text/x-python",
   "name": "python",
   "nbconvert_exporter": "python",
   "pygments_lexer": "ipython3",
   "version": "3.9.18"
  }
 },
 "nbformat": 4,
 "nbformat_minor": 2
}
