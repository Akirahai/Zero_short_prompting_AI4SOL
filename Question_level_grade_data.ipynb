{
 "cells": [
  {
   "cell_type": "code",
   "execution_count": 1,
   "metadata": {},
   "outputs": [],
   "source": [
    "from libs import *"
   ]
  },
  {
   "cell_type": "code",
   "execution_count": 2,
   "metadata": {},
   "outputs": [],
   "source": [
    "from api import Full_API_models\n",
    "model_list  = ['gemma-7b-it', 'mixtral-8x7b-32768', 'llama3-70b-8192', 'llama3-8b-8192', 'gpt-3.5-turbo']\n",
    "model = model_list[4]\n",
    "data_file = 'Grade_data_Train'"
   ]
  },
  {
   "cell_type": "code",
   "execution_count": 3,
   "metadata": {},
   "outputs": [
    {
     "data": {
      "text/plain": [
       "'c:\\\\Users\\\\lehai\\\\Downloads\\\\A star Internship 2024\\\\Current Research work\\\\Zero-short-prompting\\\\api'"
      ]
     },
     "execution_count": 3,
     "metadata": {},
     "output_type": "execute_result"
    }
   ],
   "source": [
    "import os\n",
    "os.getcwd()"
   ]
  },
  {
   "cell_type": "code",
   "execution_count": 4,
   "metadata": {},
   "outputs": [],
   "source": [
    "os.getcwd()\n",
    "os.chdir('c:\\\\Users\\\\lehai\\\\Downloads\\\\A star Internship 2024\\\\Current Research work\\\\Zero-short-prompting')\n"
   ]
  },
  {
   "cell_type": "code",
   "execution_count": 5,
   "metadata": {},
   "outputs": [],
   "source": [
    "notation_df = pd.read_csv('common_core_data/Knowledge_Base/Coherence_map_Hai.csv')"
   ]
  },
  {
   "cell_type": "code",
   "execution_count": 6,
   "metadata": {},
   "outputs": [],
   "source": [
    "kc_label_path = f'common_core_data/Data/{data_file}.csv'\n",
    "kc_label = pd.read_csv(kc_label_path, header=0)\n",
    "# kc_label['KC predicted'] = None\n",
    "# kc_label['Grade'] = None\n",
    "# kc_label['Full Reply'] = None\n",
    "\n",
    "KC_question = {}"
   ]
  },
  {
   "cell_type": "code",
   "execution_count": 8,
   "metadata": {},
   "outputs": [
    {
     "data": {
      "text/html": [
       "<div>\n",
       "<style scoped>\n",
       "    .dataframe tbody tr th:only-of-type {\n",
       "        vertical-align: middle;\n",
       "    }\n",
       "\n",
       "    .dataframe tbody tr th {\n",
       "        vertical-align: top;\n",
       "    }\n",
       "\n",
       "    .dataframe thead th {\n",
       "        text-align: right;\n",
       "    }\n",
       "</style>\n",
       "<table border=\"1\" class=\"dataframe\">\n",
       "  <thead>\n",
       "    <tr style=\"text-align: right;\">\n",
       "      <th></th>\n",
       "      <th>Question</th>\n",
       "      <th>Grade applied</th>\n",
       "      <th>KCs applied</th>\n",
       "      <th>Source</th>\n",
       "    </tr>\n",
       "  </thead>\n",
       "  <tbody>\n",
       "    <tr>\n",
       "      <th>0</th>\n",
       "      <td>The graph below shows the numbers of laps four...</td>\n",
       "      <td>3</td>\n",
       "      <td>3.MD.3</td>\n",
       "      <td>MCAS</td>\n",
       "    </tr>\n",
       "    <tr>\n",
       "      <th>1</th>\n",
       "      <td>Ms. Garcia wrote the sentence shown in the box...</td>\n",
       "      <td>3</td>\n",
       "      <td>3.OA.1</td>\n",
       "      <td>MCAS</td>\n",
       "    </tr>\n",
       "    <tr>\n",
       "      <th>2</th>\n",
       "      <td>Ms. Shaw has a quilt that is in the shape of a...</td>\n",
       "      <td>3</td>\n",
       "      <td>3.MD.8</td>\n",
       "      <td>MCAS</td>\n",
       "    </tr>\n",
       "    <tr>\n",
       "      <th>3</th>\n",
       "      <td>Which of these sentences matches the expressio...</td>\n",
       "      <td>3</td>\n",
       "      <td>3.OA.2</td>\n",
       "      <td>MCAS</td>\n",
       "    </tr>\n",
       "    <tr>\n",
       "      <th>4</th>\n",
       "      <td>What is the missing number that makes the numb...</td>\n",
       "      <td>3</td>\n",
       "      <td>3.NBT.2</td>\n",
       "      <td>MCAS</td>\n",
       "    </tr>\n",
       "    <tr>\n",
       "      <th>...</th>\n",
       "      <td>...</td>\n",
       "      <td>...</td>\n",
       "      <td>...</td>\n",
       "      <td>...</td>\n",
       "    </tr>\n",
       "    <tr>\n",
       "      <th>608</th>\n",
       "      <td>What is the value of $9^3 + 3(9^2) + 3(9) + 1$?</td>\n",
       "      <td>6</td>\n",
       "      <td>['HS.A-APR.C.5', '6.EE.A.1', '6.EE.A.2.c']</td>\n",
       "      <td>MATH Counting</td>\n",
       "    </tr>\n",
       "    <tr>\n",
       "      <th>609</th>\n",
       "      <td>In the geometric sequence with a first term of...</td>\n",
       "      <td>3</td>\n",
       "      <td>['3.OA.D.9']</td>\n",
       "      <td>MATH Algebra</td>\n",
       "    </tr>\n",
       "    <tr>\n",
       "      <th>610</th>\n",
       "      <td>Find the area in square feet of a square with ...</td>\n",
       "      <td>3</td>\n",
       "      <td>['3.MD.C.5.b', '3.G.A.1', '3.MD.D.8']</td>\n",
       "      <td>MATH Prealgebra</td>\n",
       "    </tr>\n",
       "    <tr>\n",
       "      <th>611</th>\n",
       "      <td>Find the remainder when the sum \\\\[75+76+77+78...</td>\n",
       "      <td>4</td>\n",
       "      <td>['4.OA.A.3']</td>\n",
       "      <td>MATH Number Theory</td>\n",
       "    </tr>\n",
       "    <tr>\n",
       "      <th>612</th>\n",
       "      <td>Abigail, Beatrice, and Carson combine their eg...</td>\n",
       "      <td>4</td>\n",
       "      <td>['2.OA.A.1', '4.OA.A.3']</td>\n",
       "      <td>MATH Number Theory</td>\n",
       "    </tr>\n",
       "  </tbody>\n",
       "</table>\n",
       "<p>613 rows × 4 columns</p>\n",
       "</div>"
      ],
      "text/plain": [
       "                                              Question  Grade applied  \\\n",
       "0    The graph below shows the numbers of laps four...              3   \n",
       "1    Ms. Garcia wrote the sentence shown in the box...              3   \n",
       "2    Ms. Shaw has a quilt that is in the shape of a...              3   \n",
       "3    Which of these sentences matches the expressio...              3   \n",
       "4    What is the missing number that makes the numb...              3   \n",
       "..                                                 ...            ...   \n",
       "608    What is the value of $9^3 + 3(9^2) + 3(9) + 1$?              6   \n",
       "609  In the geometric sequence with a first term of...              3   \n",
       "610  Find the area in square feet of a square with ...              3   \n",
       "611  Find the remainder when the sum \\\\[75+76+77+78...              4   \n",
       "612  Abigail, Beatrice, and Carson combine their eg...              4   \n",
       "\n",
       "                                    KCs applied              Source  \n",
       "0                                        3.MD.3                MCAS  \n",
       "1                                        3.OA.1                MCAS  \n",
       "2                                        3.MD.8                MCAS  \n",
       "3                                        3.OA.2                MCAS  \n",
       "4                                       3.NBT.2                MCAS  \n",
       "..                                          ...                 ...  \n",
       "608  ['HS.A-APR.C.5', '6.EE.A.1', '6.EE.A.2.c']       MATH Counting  \n",
       "609                                ['3.OA.D.9']        MATH Algebra  \n",
       "610       ['3.MD.C.5.b', '3.G.A.1', '3.MD.D.8']     MATH Prealgebra  \n",
       "611                                ['4.OA.A.3']  MATH Number Theory  \n",
       "612                    ['2.OA.A.1', '4.OA.A.3']  MATH Number Theory  \n",
       "\n",
       "[613 rows x 4 columns]"
      ]
     },
     "execution_count": 8,
     "metadata": {},
     "output_type": "execute_result"
    }
   ],
   "source": [
    "kc_label"
   ]
  },
  {
   "cell_type": "code",
   "execution_count": null,
   "metadata": {},
   "outputs": [],
   "source": [
    "# Ques1 = Groq_API_models.KC_classification_Ver1(ques, 0, 0, model=model)\n",
    "# Ques1.Grade = 2\n",
    "# grade, full_reply, kc_list = Ques1.get_list_kcs()"
   ]
  },
  {
   "cell_type": "code",
   "execution_count": null,
   "metadata": {},
   "outputs": [],
   "source": [
    "file_path_grade = 'common_core_data/Knowledge_Base/Data_grade/grade_dict.json'\n",
    "notation_path = 'common_core_data/Knowledge_Base/Coherence_map_Hai.csv'"
   ]
  },
  {
   "cell_type": "code",
   "execution_count": 10,
   "metadata": {},
   "outputs": [],
   "source": [
    "for i in tqdm(range(len(kc_label))):\n",
    "    if i not in KC_question.keys():\n",
    "        ques = kc_label.loc[i, 'Question']\n",
    "        kcs = kc_label.loc[i, 'KCs applied']\n",
    "        grade_applied = kc_label.loc[i, 'Grade applied']\n",
    "        \n",
    "        Ques1 = Full_API_models.KC_classification_Ver1(ques, 0, 0, model=model, file_path_grade=file_path_grade, notation_path=notation_path)\n",
    "        \n",
    "        try:\n",
    "            Ques1.Grade = grade_applied\n",
    "            grade, full_reply, kc_list = Ques1.get_list_kcs()\n",
    "            \n",
    "            KC_question[i] = {'Question': ques, 'KCs applied': kcs, 'Grade': grade, 'KCs predicted': kc_list, 'Full reply': full_reply}\n",
    "        \n",
    "        except:\n",
    "            print(f'Error at {i}')\n",
    "            KC_question[i] = None\n",
    "        \n",
    "        # print(f'This is the {i}th question')\n",
    "        # print(f'Question: {ques}')\n",
    "        # print(f'KCs applied: {kcs}')\n",
    "        # print(f'Grade applied: {grade_applied}')\n",
    "        # print(f'Grade predicted: {grade}')\n",
    "        \n",
    "        "
   ]
  },
  {
   "cell_type": "code",
   "execution_count": null,
   "metadata": {},
   "outputs": [],
   "source": [
    "\n",
    "# Debugging_code\n",
    "for i in tqdm(range(len(kc_label))):\n",
    "    if KC_question[i] is None:\n",
    "        ques = kc_label.loc[i, 'Question']\n",
    "        kcs = kc_label.loc[i, 'KCs applied']\n",
    "        grade_applied = kc_label.loc[i, 'Grade applied']\n",
    "        \n",
    "        Ques1 = Full_API_models.KC_classification_Ver1(ques, 0, 0, model=model)\n",
    "        \n",
    "        try:\n",
    "            Ques1.Grade = grade_applied\n",
    "            grade, full_reply, kc_list = Ques1.get_list_kcs()\n",
    "            \n",
    "            KC_question[i] = {'Question': ques, 'KCs applied': kcs, 'Grade': grade, 'KCs predicted': kc_list, 'Full reply': full_reply}\n",
    "        \n",
    "        except:\n",
    "            print(f'Error at {i}')\n",
    "            KC_question[i] = None\n",
    "        \n",
    "        # print(f'This is the {i}th question')\n",
    "        # print(f'Question: {ques}')\n",
    "        # print(f'KCs applied: {kcs}')\n",
    "        # print(f'Grade applied: {grade_applied}')\n",
    "        # print(f'Grade predicted: {grade}')\n",
    "        \n",
    "        "
   ]
  },
  {
   "cell_type": "code",
   "execution_count": null,
   "metadata": {},
   "outputs": [],
   "source": [
    "KC_question[234]"
   ]
  },
  {
   "cell_type": "code",
   "execution_count": null,
   "metadata": {},
   "outputs": [],
   "source": [
    "len(KC_question)"
   ]
  },
  {
   "cell_type": "code",
   "execution_count": null,
   "metadata": {},
   "outputs": [],
   "source": [
    "kc_df = pd.DataFrame(KC_question)\n",
    "kc_df = kc_df.T\n",
    "kc_df = kc_df.reset_index(drop=True)\n",
    "kc_label['KCs predicted'] = kc_df['KCs predicted']\n",
    "kc_label['Grade'] = kc_df['Grade']\n",
    "kc_label['Full Reply'] = kc_df['Full reply']"
   ]
  },
  {
   "cell_type": "code",
   "execution_count": null,
   "metadata": {},
   "outputs": [],
   "source": [
    "kc_label.head(20)"
   ]
  },
  {
   "cell_type": "code",
   "execution_count": null,
   "metadata": {},
   "outputs": [],
   "source": [
    "data_file = 'Grade_data_Train'\n",
    "data_file+= '_from_Grade'"
   ]
  },
  {
   "cell_type": "code",
   "execution_count": null,
   "metadata": {},
   "outputs": [],
   "source": [
    "kc_label.to_csv(f'api/common_core_data/Test_Result/{data_file}/{data_file}_question_level_{model}.csv', index=False)"
   ]
  }
 ],
 "metadata": {
  "kernelspec": {
   "display_name": "temasek_genAI",
   "language": "python",
   "name": "python3"
  },
  "language_info": {
   "codemirror_mode": {
    "name": "ipython",
    "version": 3
   },
   "file_extension": ".py",
   "mimetype": "text/x-python",
   "name": "python",
   "nbconvert_exporter": "python",
   "pygments_lexer": "ipython3",
   "version": "3.9.18"
  }
 },
 "nbformat": 4,
 "nbformat_minor": 2
}
