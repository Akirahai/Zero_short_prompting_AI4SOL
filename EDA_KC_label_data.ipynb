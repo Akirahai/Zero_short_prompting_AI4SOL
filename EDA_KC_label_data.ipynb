{
 "cells": [
  {
   "cell_type": "code",
   "execution_count": 1,
   "metadata": {},
   "outputs": [],
   "source": [
    "import pandas as pd"
   ]
  },
  {
   "cell_type": "code",
   "execution_count": 2,
   "metadata": {},
   "outputs": [],
   "source": [
    "def change_kc_label(kc_label, question_number):\n",
    "    kc_list = []\n",
    "    for kc in kc_label[kc_label['Question Number'] == question_number]['KC applied'].values:\n",
    "        a = kc.split(',')\n",
    "        a = [x.strip() for x in a]\n",
    "        kc_list.append(a)\n",
    "    return kc_list\n",
    "\n",
    "def change_step(kc_label, question_number):\n",
    "    step_list = []\n",
    "    for step in kc_label[kc_label['Question Number'] == question_number]['Step'].values:\n",
    "        step_list.append(step)\n",
    "    return step_list"
   ]
  },
  {
   "cell_type": "code",
   "execution_count": 3,
   "metadata": {},
   "outputs": [],
   "source": [
    "kc_label_path = 'api/common_core_data/Data/KC_label_f.csv'\n",
    "kc_label = pd.read_csv(kc_label_path, header=0)"
   ]
  },
  {
   "cell_type": "code",
   "execution_count": 4,
   "metadata": {},
   "outputs": [
    {
     "data": {
      "text/html": [
       "<div>\n",
       "<style scoped>\n",
       "    .dataframe tbody tr th:only-of-type {\n",
       "        vertical-align: middle;\n",
       "    }\n",
       "\n",
       "    .dataframe tbody tr th {\n",
       "        vertical-align: top;\n",
       "    }\n",
       "\n",
       "    .dataframe thead th {\n",
       "        text-align: right;\n",
       "    }\n",
       "</style>\n",
       "<table border=\"1\" class=\"dataframe\">\n",
       "  <thead>\n",
       "    <tr style=\"text-align: right;\">\n",
       "      <th></th>\n",
       "      <th>No.</th>\n",
       "      <th>Source</th>\n",
       "      <th>Question</th>\n",
       "      <th>Solution</th>\n",
       "      <th>Step</th>\n",
       "      <th>KC applied</th>\n",
       "      <th>Question Number</th>\n",
       "    </tr>\n",
       "  </thead>\n",
       "  <tbody>\n",
       "    <tr>\n",
       "      <th>0</th>\n",
       "      <td>0</td>\n",
       "      <td>GSM8K-TRAIN</td>\n",
       "      <td>Natalia sold clips to 48 of her friends in Apr...</td>\n",
       "      <td>Natalia sold 48/2 = &lt;&lt;48/2=24&gt;&gt;24 clips in May...</td>\n",
       "      <td>&lt;&lt;48/2=24&gt;&gt;</td>\n",
       "      <td>3.OA.A.3</td>\n",
       "      <td>0</td>\n",
       "    </tr>\n",
       "    <tr>\n",
       "      <th>1</th>\n",
       "      <td>1</td>\n",
       "      <td>GSM8K-TRAIN</td>\n",
       "      <td>Natalia sold clips to 48 of her friends in Apr...</td>\n",
       "      <td>Natalia sold 48/2 = &lt;&lt;48/2=24&gt;&gt;24 clips in May...</td>\n",
       "      <td>&lt;&lt;48+24=72&gt;&gt;</td>\n",
       "      <td>2.OA.A.1</td>\n",
       "      <td>0</td>\n",
       "    </tr>\n",
       "    <tr>\n",
       "      <th>2</th>\n",
       "      <td>2</td>\n",
       "      <td>GSM8K-TRAIN</td>\n",
       "      <td>Weng earns $12 an hour for babysitting. Yester...</td>\n",
       "      <td>Weng earns 12/60 = $&lt;&lt;12/60=0.2&gt;&gt;0.2 per minut...</td>\n",
       "      <td>&lt;&lt;12/60=0.2&gt;&gt;</td>\n",
       "      <td>4.MD.2,  4.NF.6</td>\n",
       "      <td>1</td>\n",
       "    </tr>\n",
       "    <tr>\n",
       "      <th>3</th>\n",
       "      <td>3</td>\n",
       "      <td>GSM8K-TRAIN</td>\n",
       "      <td>Weng earns $12 an hour for babysitting. Yester...</td>\n",
       "      <td>Weng earns 12/60 = $&lt;&lt;12/60=0.2&gt;&gt;0.2 per minut...</td>\n",
       "      <td>&lt;&lt;0.2*50=10&gt;&gt;</td>\n",
       "      <td>4.NF.B.4.c</td>\n",
       "      <td>1</td>\n",
       "    </tr>\n",
       "    <tr>\n",
       "      <th>4</th>\n",
       "      <td>4</td>\n",
       "      <td>GSM8K-TRAIN</td>\n",
       "      <td>Betty is saving money for a new wallet which c...</td>\n",
       "      <td>In the beginning, Betty has only 100 / 2 = $&lt;&lt;...</td>\n",
       "      <td>&lt;&lt;100/2=50&gt;&gt;</td>\n",
       "      <td>3.OA.A.3</td>\n",
       "      <td>2</td>\n",
       "    </tr>\n",
       "  </tbody>\n",
       "</table>\n",
       "</div>"
      ],
      "text/plain": [
       "   No.       Source                                           Question  \\\n",
       "0    0  GSM8K-TRAIN  Natalia sold clips to 48 of her friends in Apr...   \n",
       "1    1  GSM8K-TRAIN  Natalia sold clips to 48 of her friends in Apr...   \n",
       "2    2  GSM8K-TRAIN  Weng earns $12 an hour for babysitting. Yester...   \n",
       "3    3  GSM8K-TRAIN  Weng earns $12 an hour for babysitting. Yester...   \n",
       "4    4  GSM8K-TRAIN  Betty is saving money for a new wallet which c...   \n",
       "\n",
       "                                            Solution           Step  \\\n",
       "0  Natalia sold 48/2 = <<48/2=24>>24 clips in May...    <<48/2=24>>   \n",
       "1  Natalia sold 48/2 = <<48/2=24>>24 clips in May...   <<48+24=72>>   \n",
       "2  Weng earns 12/60 = $<<12/60=0.2>>0.2 per minut...  <<12/60=0.2>>   \n",
       "3  Weng earns 12/60 = $<<12/60=0.2>>0.2 per minut...  <<0.2*50=10>>   \n",
       "4  In the beginning, Betty has only 100 / 2 = $<<...   <<100/2=50>>   \n",
       "\n",
       "        KC applied  Question Number  \n",
       "0         3.OA.A.3                0  \n",
       "1         2.OA.A.1                0  \n",
       "2  4.MD.2,  4.NF.6                1  \n",
       "3       4.NF.B.4.c                1  \n",
       "4         3.OA.A.3                2  "
      ]
     },
     "execution_count": 4,
     "metadata": {},
     "output_type": "execute_result"
    }
   ],
   "source": [
    "kc_label.head()"
   ]
  },
  {
   "cell_type": "code",
   "execution_count": 31,
   "metadata": {},
   "outputs": [
    {
     "name": "stdout",
     "output_type": "stream",
     "text": [
      "ASDiv\n",
      "--------------------------------------------------\n",
      "Daniel has 44 commemorative plates and 33 commemorative spoons. He wants to display them in groups throughout his house, each with the same combination of plates and spoons, with none left over. What is the greatest number of groups Daniel can display?\n",
      "--------------------------------------------------\n",
      "GCD(44,33)=11\n",
      "--------------------------------------------------\n",
      "['GCD(44,33)=11']\n",
      "--------------------------------------------------\n",
      "['6.NS.B.4']\n"
     ]
    }
   ],
   "source": [
    "num = 20\n",
    "question = kc_label[kc_label['Question Number'] == num]['Question'].values[0]\n",
    "solution = kc_label[kc_label['Question Number'] == num]['Solution'].values[0]\n",
    "source = kc_label[kc_label['Question Number'] == num]['Source'].values[0]\n",
    "steps = change_step(kc_label, num)\n",
    "kcs = change_kc_label(kc_label, num)\n",
    "kcs = [item for sublist in kcs for item in sublist]\n",
    "kcs = list(set(kcs))\n",
    "\n",
    "print(source)\n",
    "print('-'*50)\n",
    "print(question)\n",
    "print('-'*50)\n",
    "print(solution)\n",
    "print('-'*50)\n",
    "print(steps)\n",
    "print('-'*50)\n",
    "print(kcs)\n",
    "\n"
   ]
  },
  {
   "cell_type": "code",
   "execution_count": 32,
   "metadata": {},
   "outputs": [
    {
     "data": {
      "text/plain": [
       "Source\n",
       "GSM8K-TRAIN                  52\n",
       "MATH Geometry                21\n",
       "MATH Number Theory           12\n",
       "MATH Counting                11\n",
       "ASDiv                        10\n",
       "MATH Prealgebra               9\n",
       "MATH Algebra                  7\n",
       "MATH precalculus              7\n",
       "MATH Intermediate Algebra     6\n",
       "Name: count, dtype: int64"
      ]
     },
     "execution_count": 32,
     "metadata": {},
     "output_type": "execute_result"
    }
   ],
   "source": [
    "# Check the number of each kind of questions from kc_label['Source]\n",
    "Source_data = kc_label['Source'].value_counts()\n",
    "Source_data"
   ]
  },
  {
   "cell_type": "code",
   "execution_count": 33,
   "metadata": {},
   "outputs": [
    {
     "data": {
      "text/plain": [
       "['6.NS.B.4']"
      ]
     },
     "execution_count": 33,
     "metadata": {},
     "output_type": "execute_result"
    }
   ],
   "source": [
    "kcs"
   ]
  },
  {
   "cell_type": "code",
   "execution_count": 34,
   "metadata": {},
   "outputs": [],
   "source": [
    "KC_question = {}\n",
    "\n",
    "for i in range(0, len(kc_label['Question Number'].unique())):\n",
    "    question = kc_label[kc_label['Question Number'] == i]['Question'].values[0]\n",
    "    solution = kc_label[kc_label['Question Number'] == i]['Solution'].values[0]\n",
    "    source = kc_label[kc_label['Question Number'] == i]['Source'].values[0]\n",
    "    steps = change_step(kc_label, i)\n",
    "    kcs = change_kc_label(kc_label, i)\n",
    "    kcs = [item for sublist in kcs for item in sublist]\n",
    "    kcs = list(set(kcs))\n",
    "    \n",
    "    grade = []\n",
    "    for kc in kcs:\n",
    "        grade.append(kc.split('.')[0])\n",
    "    \n",
    "    KC_question[i] = {'Question': question, 'Solution': solution, 'Source': source, 'KCs applied': kcs, 'Grade applied': grade}\n",
    "\n",
    "import json\n",
    "with open('api/common_core_data/Data/KC_question_level.json', 'w') as f:\n",
    "    json.dump(KC_question, f, indent=4)"
   ]
  }
 ],
 "metadata": {
  "kernelspec": {
   "display_name": "temasek_genAI",
   "language": "python",
   "name": "python3"
  },
  "language_info": {
   "codemirror_mode": {
    "name": "ipython",
    "version": 3
   },
   "file_extension": ".py",
   "mimetype": "text/x-python",
   "name": "python",
   "nbconvert_exporter": "python",
   "pygments_lexer": "ipython3",
   "version": "3.9.18"
  }
 },
 "nbformat": 4,
 "nbformat_minor": 2
}
